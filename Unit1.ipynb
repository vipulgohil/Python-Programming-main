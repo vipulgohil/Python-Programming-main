{
  "nbformat": 4,
  "nbformat_minor": 0,
  "metadata": {
    "colab": {
      "name": "Unit1.ipynb",
      "provenance": [],
      "include_colab_link": true
    },
    "kernelspec": {
      "display_name": "Python 3",
      "name": "python3"
    },
    "language_info": {
      "name": "python"
    }
  },
  "cells": [
    {
      "cell_type": "markdown",
      "metadata": {
        "id": "view-in-github",
        "colab_type": "text"
      },
      "source": [
        "<a href=\"https://colab.research.google.com/github/vipulgohil/Python-Programming-main/blob/main/Unit1.ipynb\" target=\"_parent\"><img src=\"https://colab.research.google.com/assets/colab-badge.svg\" alt=\"Open In Colab\"/></a>"
      ]
    },
    {
      "cell_type": "markdown",
      "metadata": {
        "id": "11fPDoJzT-RM"
      },
      "source": [
        "# Introduction to Python Programming\n",
        "\n",
        "###Books: <br>\n",
        "Text Books- <br>\n",
        "1.\tDr. R. Nageswara Rao, “Core Python Programming”, Dreamtech Press (Wiley Publication), 2nd Edition, 2018.  <br>\n",
        "2.\tPaul Barry,”Head first Python: A Brain Friendly guide”, O'Reilly publication, 2nd Edition, 2016. <br>\n",
        "3.\tMartin C. Brown, “Python: The Complete Reference”, McGrawHill Education, 4th Edition, 2018. <br>\n",
        "\n",
        "Reference Books- <br>\n",
        "1.\tBill Lubanovic, “Introducing Python Modern computing in simple packages”, O'Reilly publication, 3rd edition, 2019. <br>\n",
        "2.\tWes McKinney, “Python for Data Analysis”, O'Reilly publication, 2nd edition, 2017. \n",
        "3.\tJeeva Jose, P. Sojan Lal, “Introduction to Computing and Problem Solving with Python”, Khanna Publication, 1st Edition, 2019. \n",
        "\n",
        "###Website References:\n",
        "www.realpython.com<br>\n",
        "https://www.w3schools.com/\n"
      ]
    },
    {
      "cell_type": "markdown",
      "metadata": {
        "id": "vnpt5JBNVekH"
      },
      "source": [
        "###Download and then install from\n",
        "www.python.org\n",
        "###or can use \n",
        "Jupyter notebook, Colab"
      ]
    },
    {
      "cell_type": "markdown",
      "metadata": {
        "id": "O6105HBwICbJ"
      },
      "source": [
        "Check Python version"
      ]
    },
    {
      "cell_type": "code",
      "metadata": {
        "colab": {
          "base_uri": "https://localhost:8080/"
        },
        "id": "Nl70YlKqIByb",
        "outputId": "ea9e56a9-04d8-4e79-c964-aba2acb1f5ac"
      },
      "source": [
        "!python --version"
      ],
      "execution_count": null,
      "outputs": [
        {
          "output_type": "stream",
          "text": [
            "Python 3.7.10\n"
          ],
          "name": "stdout"
        }
      ]
    },
    {
      "cell_type": "markdown",
      "metadata": {
        "id": "dJf0-7miWDHj"
      },
      "source": [
        "### Identify some features of Python"
      ]
    },
    {
      "cell_type": "markdown",
      "metadata": {
        "id": "DcmvzMfdWPQU"
      },
      "source": [
        "### Integrated Development Environment (IDE)\n",
        "\n",
        "Python's built -in integrated development environment installed on your computer is IDLE.<br>\n",
        "Other IDEs are Eclipse, Py-Dev, PyCharm, Eric and NetBeans<br>\n",
        "Advanced text editors like Sublime Text and Vsiual Studio Code can also be used to run your scripts<br>\n",
        "Cloud or Browser based IDE for Python like Colab, Jupyter (Used for Julia, Python and R programming) can also be used.<br>\n",
        "\n",
        "\n",
        "###Scripts and Modules\n",
        "\n",
        "**Script**: A plain text file containg Python code that is intended to be directly executed by the user<br>\n",
        "**Module**: A plain text file, which contains Python code that is designed to be imported and used from another Python file<br>\n",
        "**Main difference**: Modules are meant to be improted while scripts are made to be directly executed.\n",
        "\n",
        "###Python Interpreter\n",
        "\n",
        "**Interpreter**<br>\n",
        "is a layer of software that works between your program and your hardware to get your code running <br>\n",
        "is a program that can analyze and execute a program line by line<br>\n",
        "transforms or interprets a high-level programming code into a code that can be understood by machines (machine codes) or into an intermediate language that can can be easily executed as well\n"
      ]
    },
    {
      "cell_type": "markdown",
      "metadata": {
        "id": "OpdSK99LbWdi"
      },
      "source": [
        "###Some taste of Python"
      ]
    },
    {
      "cell_type": "markdown",
      "metadata": {
        "id": "ra0DTFIxS6yk"
      },
      "source": [
        "Example 1.1"
      ]
    },
    {
      "cell_type": "code",
      "metadata": {
        "colab": {
          "base_uri": "https://localhost:8080/"
        },
        "id": "s07exr8mS1sk",
        "outputId": "6277712f-7db6-4fa8-9fd5-dfae2ee079a5"
      },
      "source": [
        "for get_set in 5,4,3,2,1,\"go!\":\n",
        "  print(get_set)"
      ],
      "execution_count": null,
      "outputs": [
        {
          "output_type": "stream",
          "text": [
            "5\n",
            "4\n",
            "3\n",
            "2\n",
            "1\n",
            "go!\n"
          ],
          "name": "stdout"
        }
      ]
    },
    {
      "cell_type": "markdown",
      "metadata": {
        "id": "TZJ_OkIJcmDd"
      },
      "source": [
        "Some special keywords like **for**, **in**, **print** and symbols like **comma**,**colon** and **parentheses** are used in the above program. These are important components of the Python language syntax"
      ]
    },
    {
      "cell_type": "markdown",
      "metadata": {
        "id": "oQjRvF8jPnpK"
      },
      "source": [
        "###Print Python keywords"
      ]
    },
    {
      "cell_type": "code",
      "metadata": {
        "colab": {
          "base_uri": "https://localhost:8080/"
        },
        "id": "eV3C5G2TPr_A",
        "outputId": "8195b2ac-4856-4783-bbc2-44fb93370947"
      },
      "source": [
        "import keyword\n",
        "keyword.kwlist"
      ],
      "execution_count": null,
      "outputs": [
        {
          "output_type": "execute_result",
          "data": {
            "text/plain": [
              "['False',\n",
              " 'None',\n",
              " 'True',\n",
              " 'and',\n",
              " 'as',\n",
              " 'assert',\n",
              " 'async',\n",
              " 'await',\n",
              " 'break',\n",
              " 'class',\n",
              " 'continue',\n",
              " 'def',\n",
              " 'del',\n",
              " 'elif',\n",
              " 'else',\n",
              " 'except',\n",
              " 'finally',\n",
              " 'for',\n",
              " 'from',\n",
              " 'global',\n",
              " 'if',\n",
              " 'import',\n",
              " 'in',\n",
              " 'is',\n",
              " 'lambda',\n",
              " 'nonlocal',\n",
              " 'not',\n",
              " 'or',\n",
              " 'pass',\n",
              " 'raise',\n",
              " 'return',\n",
              " 'try',\n",
              " 'while',\n",
              " 'with',\n",
              " 'yield']"
            ]
          },
          "metadata": {
            "tags": []
          },
          "execution_count": 2
        }
      ]
    },
    {
      "cell_type": "code",
      "metadata": {
        "id": "dfwDg_AyPwEH"
      },
      "source": [
        "help('for')"
      ],
      "execution_count": null,
      "outputs": []
    },
    {
      "cell_type": "markdown",
      "metadata": {
        "id": "ATjHVaLnTn6M"
      },
      "source": [
        "Example 1.2"
      ]
    },
    {
      "cell_type": "code",
      "metadata": {
        "colab": {
          "base_uri": "https://localhost:8080/"
        },
        "id": "swt_qELpbo0m",
        "outputId": "2e1acd26-eeaf-43d2-f8c7-42c1a335c7ab"
      },
      "source": [
        "names= [\"Ram\", \"Laxman\", \"Bharat\", \"Shatrughna\"]\n",
        "print(names[2])"
      ],
      "execution_count": null,
      "outputs": [
        {
          "output_type": "stream",
          "text": [
            "Bharat\n"
          ],
          "name": "stdout"
        }
      ]
    },
    {
      "cell_type": "markdown",
      "metadata": {
        "id": "vXUtA0ytcfU9"
      },
      "source": [
        " In program 1.2, the idea of *list* is introduced. *Python strings* are the elements of the list called **names**. These elements are separated by a comma and enclosed in a square ([ and]) bracket. In this program we are printing the 3rd element. Index of the first element is '0' and not '1'"
      ]
    },
    {
      "cell_type": "markdown",
      "metadata": {
        "id": "trCVydK6sKai"
      },
      "source": [
        "Example 1.3"
      ]
    },
    {
      "cell_type": "code",
      "metadata": {
        "colab": {
          "base_uri": "https://localhost:8080/"
        },
        "id": "5_Vj2GhUTOMI",
        "outputId": "55cde2a5-6bc6-4482-fe37-63bcdc263b76"
      },
      "source": [
        "books= {\"SudhaMurthy\": \"Wise or Otherwise\", \"AmishTripaty\": \"Sita\", \"ChetanBhagat\": \"Three mistakes of my life\", \"RobinSharma\": \"The monk who sold his Ferrari\"}\n",
        "auth= \"RobinSharma\"\n",
        "print(books[auth], \" is written by \", auth)"
      ],
      "execution_count": null,
      "outputs": [
        {
          "output_type": "stream",
          "text": [
            "The monk who sold his Ferrari  is written by  RobinSharma\n"
          ],
          "name": "stdout"
        }
      ]
    },
    {
      "cell_type": "markdown",
      "metadata": {
        "id": "BWSLGifEvk7o"
      },
      "source": [
        "Here variable book is a dictionary made up of unique key and the corresponding value. For example, auth here is the key and books[auth] prints its value whcih is \"The monk who sold his Ferrari\". Dictionary elements are enclosed in a curly bracket ({ and }). Each key-value pair is separated by a comma. Each relation of key and value is denoted by a semicolon."
      ]
    },
    {
      "cell_type": "markdown",
      "metadata": {
        "id": "Spihg01tnJIr"
      },
      "source": [
        "#Python Comments\n",
        "Used for explaining and making the code more understandable or readable. Example 1.4 below shows the use of comments. Comments are also used sometimes when we do not intend to run a piece of code. Comments can be single line or multiple lines.\n"
      ]
    },
    {
      "cell_type": "markdown",
      "metadata": {
        "id": "wZa8EA3qayvp"
      },
      "source": [
        "Example 1.4"
      ]
    },
    {
      "cell_type": "code",
      "metadata": {
        "id": "oBrQIo8Cu9J2"
      },
      "source": [
        "#Generation of random numbers in numpy\n",
        "import numpy as np # importing Numpy package for scientific computing\n",
        "from numpy import random #import rnadom module from numpy to access various functions in it\n",
        "b= random.randint(10,100, size=5)\n",
        "print(b)\n",
        "c= random.rand() #Returns a float between 0 and 1\n",
        "print(c)\n",
        "d=random.rand(5,6)#Returns a matrix of size 5X6 with float values between 0 and 1 from uniform distribution\n",
        "print(d)\n",
        "e= random.random((3,4))#Returns a matrix of size 5X6 with float values between 0 and 1 from uniform distribution Size taken as a tuple\n",
        "print(e)\n"
      ],
      "execution_count": null,
      "outputs": []
    },
    {
      "cell_type": "markdown",
      "metadata": {
        "id": "rVxw_mUNRxjw"
      },
      "source": [
        "###Multiple line comments"
      ]
    },
    {
      "cell_type": "markdown",
      "metadata": {
        "id": "MAHLIuoPh05X"
      },
      "source": [
        "Example 1.5"
      ]
    },
    {
      "cell_type": "code",
      "metadata": {
        "colab": {
          "base_uri": "https://localhost:8080/"
        },
        "id": "LwZvGh-th4bs",
        "outputId": "da30cfb1-830e-4f54-a647-e8485e484bde"
      },
      "source": [
        "\"\"\" This program imports datetime module\n",
        "from datetime package\"\"\"\n",
        "\n",
        "import numpy as np # import numpy package\n",
        "from datetime import datetime # import datetime module from datetime package\n",
        "odd= np.arange(1, 60, 2)\n",
        "#print(odd)\n",
        "this_min= datetime.today().minute #use today function to print the current minute\n",
        "#print(this_min)\n",
        "\n",
        "# if-else loop used to check current minute is odd and print the statement\n",
        "\n",
        "if this_min in odd:\n",
        "  print (\"Our time is odd\")\n",
        "else:\n",
        "  print(\"time is not odd\")\n"
      ],
      "execution_count": null,
      "outputs": [
        {
          "output_type": "stream",
          "text": [
            "Our time is odd\n"
          ],
          "name": "stdout"
        }
      ]
    },
    {
      "cell_type": "markdown",
      "metadata": {
        "id": "sHL4F4GrSIjW"
      },
      "source": [
        "### Docstrings"
      ]
    },
    {
      "cell_type": "code",
      "metadata": {
        "id": "0jXFwwpcSM_P"
      },
      "source": [
        "# program to add two numbers\n",
        "def add_num(x,y):\n",
        "  \"\"\"This is an addition function\"\"\"\n",
        "  z= x+y\n",
        "  \n",
        "  return (z)\n",
        "    \n"
      ],
      "execution_count": null,
      "outputs": []
    },
    {
      "cell_type": "code",
      "metadata": {
        "colab": {
          "base_uri": "https://localhost:8080/"
        },
        "id": "5fTjg3oWSv5b",
        "outputId": "e335db37-85c7-4c70-a01e-505254432f98"
      },
      "source": [
        "print(add_num.__doc__)"
      ],
      "execution_count": null,
      "outputs": [
        {
          "output_type": "stream",
          "text": [
            "This is an addition function\n"
          ],
          "name": "stdout"
        }
      ]
    },
    {
      "cell_type": "code",
      "metadata": {
        "id": "9KuVf_klQQhK"
      },
      "source": [
        "def my_function():\n",
        "    \"\"\"Demonstrates \n",
        "    triple double quotes\"\"\"\n",
        "    \n",
        "   \n",
        "    return None"
      ],
      "execution_count": null,
      "outputs": []
    },
    {
      "cell_type": "code",
      "metadata": {
        "colab": {
          "base_uri": "https://localhost:8080/"
        },
        "id": "3Yy9yLB4QXdQ",
        "outputId": "f80dfdb5-3089-48e0-a59b-139078f415d2"
      },
      "source": [
        "print(my_function.__doc__)"
      ],
      "execution_count": null,
      "outputs": [
        {
          "output_type": "stream",
          "text": [
            "Demonstrates \n",
            "    triple double quotes\n"
          ],
          "name": "stdout"
        }
      ]
    },
    {
      "cell_type": "markdown",
      "metadata": {
        "id": "feP8STc1Dmcc"
      },
      "source": [
        "## Reserved key words\n",
        "\n",
        "False,     await,      else,       import,     pass,<br>\n",
        "None,       break,      except,     in,         raise,<br>\n",
        "True,       class,      finally,    is,         return,<br>\n",
        "and,        continue,   for,        lambda,     try,<br>\n",
        "as,         def,        from,       nonlocal,   while,<br>\n",
        "assert,     del,        global,     not,        with,<br>\n",
        "async,      elif,       if,         or,         yield<br>"
      ]
    },
    {
      "cell_type": "code",
      "metadata": {
        "colab": {
          "base_uri": "https://localhost:8080/"
        },
        "id": "V23xuPOMFa3X",
        "outputId": "966b4124-aa73-447d-f198-e3ba3bb80d8e"
      },
      "source": [
        "help(\"keywords\")"
      ],
      "execution_count": null,
      "outputs": [
        {
          "output_type": "stream",
          "text": [
            "\n",
            "Here is a list of the Python keywords.  Enter any keyword to get more help.\n",
            "\n",
            "False               class               from                or\n",
            "None                continue            global              pass\n",
            "True                def                 if                  raise\n",
            "and                 del                 import              return\n",
            "as                  elif                in                  try\n",
            "assert              else                is                  while\n",
            "async               except              lambda              with\n",
            "await               finally             nonlocal            yield\n",
            "break               for                 not                 \n",
            "\n"
          ],
          "name": "stdout"
        }
      ]
    },
    {
      "cell_type": "code",
      "metadata": {
        "colab": {
          "base_uri": "https://localhost:8080/"
        },
        "id": "Qbe5BvpYJCZ2",
        "outputId": "83c33eff-a7c5-4563-ec95-4e883c4a1abf"
      },
      "source": [
        "import random\n",
        "dir(random)"
      ],
      "execution_count": null,
      "outputs": [
        {
          "output_type": "execute_result",
          "data": {
            "text/plain": [
              "['BPF',\n",
              " 'LOG4',\n",
              " 'NV_MAGICCONST',\n",
              " 'RECIP_BPF',\n",
              " 'Random',\n",
              " 'SG_MAGICCONST',\n",
              " 'SystemRandom',\n",
              " 'TWOPI',\n",
              " '_BuiltinMethodType',\n",
              " '_MethodType',\n",
              " '_Sequence',\n",
              " '_Set',\n",
              " '__all__',\n",
              " '__builtins__',\n",
              " '__cached__',\n",
              " '__doc__',\n",
              " '__file__',\n",
              " '__loader__',\n",
              " '__name__',\n",
              " '__package__',\n",
              " '__spec__',\n",
              " '_acos',\n",
              " '_bisect',\n",
              " '_ceil',\n",
              " '_cos',\n",
              " '_e',\n",
              " '_exp',\n",
              " '_inst',\n",
              " '_itertools',\n",
              " '_log',\n",
              " '_os',\n",
              " '_pi',\n",
              " '_random',\n",
              " '_sha512',\n",
              " '_sin',\n",
              " '_sqrt',\n",
              " '_test',\n",
              " '_test_generator',\n",
              " '_urandom',\n",
              " '_warn',\n",
              " 'betavariate',\n",
              " 'choice',\n",
              " 'choices',\n",
              " 'expovariate',\n",
              " 'gammavariate',\n",
              " 'gauss',\n",
              " 'getrandbits',\n",
              " 'getstate',\n",
              " 'lognormvariate',\n",
              " 'normalvariate',\n",
              " 'paretovariate',\n",
              " 'randint',\n",
              " 'random',\n",
              " 'randrange',\n",
              " 'sample',\n",
              " 'seed',\n",
              " 'setstate',\n",
              " 'shuffle',\n",
              " 'triangular',\n",
              " 'uniform',\n",
              " 'vonmisesvariate',\n",
              " 'weibullvariate']"
            ]
          },
          "metadata": {
            "tags": []
          },
          "execution_count": 11
        }
      ]
    },
    {
      "cell_type": "code",
      "metadata": {
        "colab": {
          "base_uri": "https://localhost:8080/"
        },
        "id": "lS_WzK3rJRiV",
        "outputId": "7afe9d26-f2eb-499e-957c-0f97d780ff53"
      },
      "source": [
        "help(random.randint)"
      ],
      "execution_count": null,
      "outputs": [
        {
          "output_type": "stream",
          "text": [
            "Help on method randint in module random:\n",
            "\n",
            "randint(a, b) method of random.Random instance\n",
            "    Return random integer in range [a, b], including both end points.\n",
            "\n"
          ],
          "name": "stdout"
        }
      ]
    },
    {
      "cell_type": "markdown",
      "metadata": {
        "id": "gm7JCFIgmXfv"
      },
      "source": [
        "##Identation in Python\n",
        "\n",
        "Indentation refers to the spaces at the beginning of a code line.\n",
        "In some  programming languages the indentation in code is just for readability. However the indentation in indicate a block of code and hence very important. In Example 1.4 above, we see tht the if and else statement has the block  which is indentated\n",
        "\n",
        "A COLON INTRODUCES AN INDENTED SUITE OF CODE <br>\n",
        "The colon (:) is important, in that it introduces a new suite of code that must be indented to the right. If you forget to indent your code after a colon, the interpreter raises an error.\n"
      ]
    },
    {
      "cell_type": "markdown",
      "metadata": {
        "id": "2d3dY_s0nFmQ"
      },
      "source": [
        "##Variables\n",
        "\n",
        "Variables are used for storing data. No additional command requred to declare the variable. Variable is created as soon as it is assigned the first value. Variable names are case sensitive.\n",
        "\n",
        "\n",
        "**DIY:** Dos and Don'ts while assigning variable names\n",
        "\n"
      ]
    },
    {
      "cell_type": "markdown",
      "metadata": {
        "id": "J2ZvkQfm-U8o"
      },
      "source": [
        "###Creating, Casting and Getting the type of a variable"
      ]
    },
    {
      "cell_type": "code",
      "metadata": {
        "colab": {
          "base_uri": "https://localhost:8080/"
        },
        "id": "F8sXMfa2-gHu",
        "outputId": "a5479126-04ba-49aa-9569-23b231e4ee77"
      },
      "source": [
        "my_name= \"Ami Munshi\" #string type variable created. A string can be declareed using double quote or a single quote\n",
        "type(my_name) #to get the variable type"
      ],
      "execution_count": null,
      "outputs": [
        {
          "output_type": "execute_result",
          "data": {
            "text/plain": [
              "str"
            ]
          },
          "metadata": {
            "tags": []
          },
          "execution_count": 22
        }
      ]
    },
    {
      "cell_type": "code",
      "metadata": {
        "colab": {
          "base_uri": "https://localhost:8080/"
        },
        "id": "mtzxnkx4-rn5",
        "outputId": "cc5bb9de-e896-4596-b3db-89a89e65ea86"
      },
      "source": [
        "my_number= 7 #number will be int\n",
        "print(type(my_number))\n",
        "\n",
        "my_number ='7' #number will be string\n",
        "print(type(my_number))\n",
        "\n",
        "my_number= 7.0 #number will be float\n",
        "print(type(my_number))"
      ],
      "execution_count": null,
      "outputs": [
        {
          "output_type": "stream",
          "text": [
            "<class 'int'>\n",
            "<class 'str'>\n",
            "<class 'float'>\n"
          ],
          "name": "stdout"
        }
      ]
    },
    {
      "cell_type": "code",
      "metadata": {
        "colab": {
          "base_uri": "https://localhost:8080/"
        },
        "id": "oqUdp6EnH2Ld",
        "outputId": "ba29b7ed-14ab-4b11-be2b-06dc1d2a978c"
      },
      "source": [
        "a= 6\n",
        "print(type(a))\n",
        "b=7.0\n",
        "print(type(b))\n"
      ],
      "execution_count": null,
      "outputs": [
        {
          "output_type": "stream",
          "text": [
            "<class 'int'>\n",
            "<class 'float'>\n"
          ],
          "name": "stdout"
        }
      ]
    },
    {
      "cell_type": "code",
      "metadata": {
        "colab": {
          "base_uri": "https://localhost:8080/"
        },
        "id": "YMegFsx7_Qku",
        "outputId": "ecdf83bc-6fe4-44cc-8bf6-087d44da6ce3"
      },
      "source": [
        "#This is called casting\n",
        "\n",
        "my_marks= int(77)\n",
        "print(my_marks)\n",
        "\n",
        "my_marks= float(77)\n",
        "print(my_marks)\n",
        "\n",
        "my_marks= str(77)\n",
        "print(my_marks)"
      ],
      "execution_count": null,
      "outputs": [
        {
          "output_type": "stream",
          "text": [
            "77\n",
            "77.0\n",
            "77\n"
          ],
          "name": "stdout"
        }
      ]
    },
    {
      "cell_type": "markdown",
      "metadata": {
        "id": "htJ3WNBeTfta"
      },
      "source": [
        "###Assigning different values to multiple variables in the same statement"
      ]
    },
    {
      "cell_type": "code",
      "metadata": {
        "colab": {
          "base_uri": "https://localhost:8080/"
        },
        "id": "K_XS8mg4Twv_",
        "outputId": "ba084a17-53b5-42ab-f2d1-cfb5ffd4b717"
      },
      "source": [
        "p,q,r = 8,9,10\n",
        "print(\"Value of p is: \", p)"
      ],
      "execution_count": null,
      "outputs": [
        {
          "output_type": "stream",
          "text": [
            "Value of p is:  8\n"
          ],
          "name": "stdout"
        }
      ]
    },
    {
      "cell_type": "markdown",
      "metadata": {
        "id": "3zlhd0ORNoJ7"
      },
      "source": [
        "Assigning same value to multiple variables"
      ]
    },
    {
      "cell_type": "code",
      "metadata": {
        "colab": {
          "base_uri": "https://localhost:8080/"
        },
        "id": "TkywEGzyN93c",
        "outputId": "1f209ee9-be3c-4cdf-8420-5c18fbbbc85e"
      },
      "source": [
        "x=y=z=4\n",
        "print(x)\n",
        "print(z)"
      ],
      "execution_count": null,
      "outputs": [
        {
          "output_type": "stream",
          "text": [
            "4\n",
            "4\n"
          ],
          "name": "stdout"
        }
      ]
    },
    {
      "cell_type": "code",
      "metadata": {
        "id": "SCpETcOOKg_c"
      },
      "source": [
        "p=4\n",
        "q=4\n"
      ],
      "execution_count": null,
      "outputs": []
    },
    {
      "cell_type": "markdown",
      "metadata": {
        "id": "i2fqpA3eOFOJ"
      },
      "source": [
        "##Note\n",
        "\n",
        "Variables are just names or pointer to the object. \n",
        "Variable names point to places (location) of the object, they are not object themselves"
      ]
    },
    {
      "cell_type": "markdown",
      "metadata": {
        "id": "Cyjrtm-tQZNi"
      },
      "source": [
        "###Standard Library\n",
        "There are many functionalities that exist in Python's Standard Library. There are many modules, sub-modules and functions which are resuable codes in the standard library\n",
        "\n",
        "Refer to this doumentation to explore about the standard library\n",
        "\n",
        "https://docs.python.org/3/library/index.html.\n"
      ]
    },
    {
      "cell_type": "markdown",
      "metadata": {
        "id": "T3LFhL4EUlui"
      },
      "source": [
        "##Python Data Types\n",
        "\n",
        "Variables are stored in different data types to do various things\n",
        "\n",
        "Text Type:\tstr <br>\n",
        "Numeric Types:\tint, float, complex <br>\n",
        "Sequence Types:\tlist, tuple, range <br>\n",
        "Mapping Type:\tdict <br>\n",
        "Set Types:\tset, frozenset <br>\n",
        "Boolean Type:\tbool <br>\n",
        "Binary Types:\tbytes, bytearray, memoryview <br>\n"
      ]
    },
    {
      "cell_type": "code",
      "metadata": {
        "colab": {
          "base_uri": "https://localhost:8080/"
        },
        "id": "kRMK9ajAT7qY",
        "outputId": "82e6e39e-1852-4a8a-c921-bd033387a2e3"
      },
      "source": [
        "vegetables= [\"apples\", \"mangoes\", \"bananas\"] #list data type\n",
        "print(type(vegetables))\n",
        "marks= (70,77, 86) #tuple data type\n",
        "print(type(marks))\n",
        "student= {\"name\": \"Raj\", \"roll num\": 34} #dictionary data type\n",
        "print(type(student))\n",
        "y= False #Boolean data type\n",
        "print(type(y))"
      ],
      "execution_count": null,
      "outputs": [
        {
          "output_type": "stream",
          "text": [
            "<class 'list'>\n",
            "<class 'tuple'>\n",
            "<class 'dict'>\n",
            "<class 'bool'>\n"
          ],
          "name": "stdout"
        }
      ]
    },
    {
      "cell_type": "code",
      "metadata": {
        "colab": {
          "base_uri": "https://localhost:8080/"
        },
        "id": "sbUjC-I6Mabm",
        "outputId": "9a3b1fe3-df75-44d0-b5d6-024114c9c4ac"
      },
      "source": [
        "x= True\n",
        "y= False\n",
        "\n",
        "x and y"
      ],
      "execution_count": null,
      "outputs": [
        {
          "output_type": "execute_result",
          "data": {
            "text/plain": [
              "False"
            ]
          },
          "metadata": {
            "tags": []
          },
          "execution_count": 28
        }
      ]
    },
    {
      "cell_type": "markdown",
      "metadata": {
        "id": "qB3v1qNBLtSB"
      },
      "source": [
        "Is list Mutable and immutable?\n",
        "Is tuple mutable of immutable?"
      ]
    },
    {
      "cell_type": "markdown",
      "metadata": {
        "id": "GU2Lg4t8Xt6I"
      },
      "source": [
        "###Operators in Python\n",
        "\n",
        "Python operators are as follows:\n",
        "\n",
        "Arithmetic operators<br>\n",
        "Assignment operators <br>\n",
        "Comparison operators <br>\n",
        "Logical operators <br>\n",
        "Identity operators <br>\n",
        "Membership operators <br>\n",
        "Bitwise operators <br>"
      ]
    },
    {
      "cell_type": "code",
      "metadata": {
        "colab": {
          "base_uri": "https://localhost:8080/"
        },
        "id": "1z89zd8XXZuf",
        "outputId": "3de353a4-2bfe-4c2b-b0ab-097c610e6d9d"
      },
      "source": [
        "#Arithmetic operators\n",
        "\n",
        "5+8 #addition operator\n",
        "\n",
        "17-9 #subtraction operator\n",
        "\n",
        "7*9 #multiplication operator\n",
        "\n",
        "8/3 #Division operator, floating point division\n",
        "\n",
        "8//3 #Floor Division operator, integer or truncating division, gives quotient\n",
        "\n",
        "8%3 #Modulus operator-Gives remainder\n",
        "\n",
        "2**4 #Exponention operator"
      ],
      "execution_count": null,
      "outputs": [
        {
          "output_type": "execute_result",
          "data": {
            "text/plain": [
              "0"
            ]
          },
          "metadata": {
            "tags": []
          },
          "execution_count": 6
        }
      ]
    },
    {
      "cell_type": "code",
      "metadata": {
        "colab": {
          "base_uri": "https://localhost:8080/"
        },
        "id": "WaRXC6dPMzH7",
        "outputId": "061cbbc4-7259-49ea-bc4a-4759234af5b7"
      },
      "source": [
        "8/3"
      ],
      "execution_count": null,
      "outputs": [
        {
          "output_type": "execute_result",
          "data": {
            "text/plain": [
              "2.6666666666666665"
            ]
          },
          "metadata": {
            "tags": []
          },
          "execution_count": 29
        }
      ]
    },
    {
      "cell_type": "code",
      "metadata": {
        "colab": {
          "base_uri": "https://localhost:8080/"
        },
        "id": "dhbTuffyM2Es",
        "outputId": "3672afab-3478-4e36-b01e-713342c27bba"
      },
      "source": [
        "8%5"
      ],
      "execution_count": null,
      "outputs": [
        {
          "output_type": "execute_result",
          "data": {
            "text/plain": [
              "3"
            ]
          },
          "metadata": {
            "tags": []
          },
          "execution_count": 32
        }
      ]
    },
    {
      "cell_type": "code",
      "metadata": {
        "colab": {
          "base_uri": "https://localhost:8080/"
        },
        "id": "H3SrH5ALSdez",
        "outputId": "c228c4c1-6505-4937-eced-50455ef00d6f"
      },
      "source": [
        "divmod(7,3) #getting quotient and remainder both. Function name divmod which gives output in form of a tuple"
      ],
      "execution_count": null,
      "outputs": [
        {
          "output_type": "execute_result",
          "data": {
            "text/plain": [
              "(2, 1)"
            ]
          },
          "metadata": {
            "tags": []
          },
          "execution_count": 7
        }
      ]
    },
    {
      "cell_type": "code",
      "metadata": {
        "id": "hjNlkBuHTydP"
      },
      "source": [
        "#Assignment operators\n",
        "\n",
        "a = 8  \n",
        "\n",
        "a+=3 # can also be written as a= a+3\n",
        "\n",
        "a-=3\n",
        "\n",
        "a//=2\n",
        "\n",
        "a**=2 # a= a**2"
      ],
      "execution_count": null,
      "outputs": []
    },
    {
      "cell_type": "code",
      "metadata": {
        "id": "4gyKCV6WXs_X"
      },
      "source": [
        "#Comparison operators\n",
        "x=4\n",
        "y=5\n",
        "\n",
        "x==y #check if x equal to y\n",
        "\n",
        "x>=y #check if x greater than or equal to y\n",
        "\n",
        "x<=y #less than equal to\n",
        "\n",
        "x!=y #not equal to\n",
        "\n",
        "x>y #greater than\n",
        "\n",
        "x<y #less than\n"
      ],
      "execution_count": null,
      "outputs": []
    },
    {
      "cell_type": "code",
      "metadata": {
        "colab": {
          "base_uri": "https://localhost:8080/"
        },
        "id": "iJ7LDwbCaYI0",
        "outputId": "d7f77d99-5a23-4608-8723-039e0be21c7c"
      },
      "source": [
        "#Identity operators: is and is not\n",
        "#Checks if both the variables point to the same object at the same memory location\n",
        "\n",
        "a=[1,2,3]\n",
        "\n",
        "b=a\n",
        "\n",
        "c=[1,2,3]\n",
        "\n",
        "print(a is b)\n",
        "\n",
        "print(a is c)"
      ],
      "execution_count": null,
      "outputs": [
        {
          "output_type": "stream",
          "text": [
            "True\n",
            "False\n"
          ],
          "name": "stdout"
        }
      ]
    },
    {
      "cell_type": "code",
      "metadata": {
        "colab": {
          "base_uri": "https://localhost:8080/"
        },
        "id": "m6dMofAgb8wy",
        "outputId": "5fa8f5bf-274b-4ebd-c79e-6ef5a663a611"
      },
      "source": [
        "#Membership operator\n",
        "\n",
        "x= [1,2,3,4,5]\n",
        "\n",
        "y= 2\n",
        "\n",
        "print(y in x)"
      ],
      "execution_count": null,
      "outputs": [
        {
          "output_type": "stream",
          "text": [
            "True\n"
          ],
          "name": "stdout"
        }
      ]
    },
    {
      "cell_type": "code",
      "metadata": {
        "colab": {
          "base_uri": "https://localhost:8080/"
        },
        "id": "gqkGlybUckXL",
        "outputId": "c894d575-9a06-462c-c135-eaae014508a6"
      },
      "source": [
        "#membership operator\n",
        "\n",
        "fruits= [\"mangoes\", \"orange\", \"grapes\"]\n",
        "\n",
        "print(\"apple\" not in fruits)"
      ],
      "execution_count": null,
      "outputs": [
        {
          "output_type": "stream",
          "text": [
            "True\n"
          ],
          "name": "stdout"
        }
      ]
    },
    {
      "cell_type": "code",
      "metadata": {
        "colab": {
          "base_uri": "https://localhost:8080/"
        },
        "id": "WFMKFoWXdZd-",
        "outputId": "110daccd-45ba-4647-ff62-0eb33b44e418"
      },
      "source": [
        "#bitwise operators\n",
        "#Used to compare two numbers\n",
        "#Both the numbers are converted to binary, then bit wise operation is performed and then the result is converted back to decimal\n",
        "a=2 #0010\n",
        "b=3 #0011\n",
        "a|b #bitwise or\n",
        "a&b #bitwise and\n",
        "a^b #bitwise xor"
      ],
      "execution_count": null,
      "outputs": [
        {
          "output_type": "execute_result",
          "data": {
            "text/plain": [
              "3"
            ]
          },
          "metadata": {
            "tags": []
          },
          "execution_count": 11
        }
      ]
    },
    {
      "cell_type": "code",
      "metadata": {
        "colab": {
          "base_uri": "https://localhost:8080/"
        },
        "id": "AakLYmw39qSG",
        "outputId": "3465477f-ea18-4bb5-d097-04a0f8eafd21"
      },
      "source": [
        "#bitwise operators\n",
        "a= 2 #0010\n",
        "a<<1 #shift left\n",
        "a>>2 #shift right"
      ],
      "execution_count": null,
      "outputs": [
        {
          "output_type": "execute_result",
          "data": {
            "text/plain": [
              "4"
            ]
          },
          "metadata": {
            "tags": []
          },
          "execution_count": 13
        }
      ]
    },
    {
      "cell_type": "code",
      "metadata": {
        "colab": {
          "base_uri": "https://localhost:8080/"
        },
        "id": "rBXS2gOB-p58",
        "outputId": "5cf4654f-b967-48e1-f260-ecf2cae9f15c"
      },
      "source": [
        "#check for precedence of bitwise operators\n",
        "\n",
        "a=2\n",
        "b=7\n",
        "b|a<<2"
      ],
      "execution_count": null,
      "outputs": [
        {
          "output_type": "execute_result",
          "data": {
            "text/plain": [
              "15"
            ]
          },
          "metadata": {
            "tags": []
          },
          "execution_count": 14
        }
      ]
    },
    {
      "cell_type": "markdown",
      "metadata": {
        "id": "FHh0F8_Gj6ww"
      },
      "source": [
        "## Bases Conversions"
      ]
    },
    {
      "cell_type": "code",
      "metadata": {
        "colab": {
          "base_uri": "https://localhost:8080/"
        },
        "id": "ZOAAHsUnkIHh",
        "outputId": "69625cfb-9d82-4f10-ca29-8e6aeeb0ce41"
      },
      "source": [
        "#binary to decimal\n",
        "print(0b1001)\n",
        "\n",
        "#Octal to decimal\n",
        "print(0o13)\n",
        "\n",
        "#hexadecimal to decimal\n",
        "0xA\n"
      ],
      "execution_count": null,
      "outputs": [
        {
          "output_type": "stream",
          "text": [
            "9\n",
            "11\n"
          ],
          "name": "stdout"
        },
        {
          "output_type": "execute_result",
          "data": {
            "text/plain": [
              "10"
            ]
          },
          "metadata": {
            "tags": []
          },
          "execution_count": 35
        }
      ]
    },
    {
      "cell_type": "markdown",
      "metadata": {
        "id": "GafpoGf98_P_"
      },
      "source": [
        "**DIY**  : decimal to binary, decimal to octal and decimal to hexadecimal"
      ]
    },
    {
      "cell_type": "code",
      "metadata": {
        "colab": {
          "base_uri": "https://localhost:8080/",
          "height": 35
        },
        "id": "do2848nwo2HX",
        "outputId": "55dd4095-c2cf-412f-fc8f-68c51ce0bb65"
      },
      "source": [
        "#integer to string with any bases\n",
        "\n",
        "bin(15) # decimal to binary string\n",
        "\n",
        "oct(11)\n",
        "\n",
        "hex(10)"
      ],
      "execution_count": null,
      "outputs": [
        {
          "output_type": "execute_result",
          "data": {
            "application/vnd.google.colaboratory.intrinsic+json": {
              "type": "string"
            },
            "text/plain": [
              "'0xa'"
            ]
          },
          "metadata": {
            "tags": []
          },
          "execution_count": 46
        }
      ]
    },
    {
      "cell_type": "code",
      "metadata": {
        "colab": {
          "base_uri": "https://localhost:8080/"
        },
        "id": "8pTOWlaLqs2v",
        "outputId": "4dacc620-5095-434b-d44a-527de33a5fb2"
      },
      "source": [
        "#Ascii values\n",
        "\n",
        "chr(69) #integer to its string equivalent\n",
        "\n",
        "ord('A') #sring to integer"
      ],
      "execution_count": null,
      "outputs": [
        {
          "output_type": "execute_result",
          "data": {
            "text/plain": [
              "65"
            ]
          },
          "metadata": {
            "tags": []
          },
          "execution_count": 37
        }
      ]
    },
    {
      "cell_type": "code",
      "metadata": {
        "id": "tNKhQQNssePv"
      },
      "source": [
        "Type Conversions"
      ],
      "execution_count": null,
      "outputs": []
    },
    {
      "cell_type": "code",
      "metadata": {
        "colab": {
          "base_uri": "https://localhost:8080/"
        },
        "id": "GMX_HOzLslNY",
        "outputId": "4f04a0c8-36d8-485d-8c59-453047393665"
      },
      "source": [
        "bool(1) #int to boolean\n",
        "\n",
        "int(True)\n",
        "\n",
        "int(1e4)\n",
        "\n",
        "float(98)\n",
        "\n",
        "bool(0.0)\n",
        "\n",
        "int('101',2) #binary to decimal\n",
        "\n",
        "int('13',8) #octal to decimal\n",
        "\n",
        "int('A',16) #hexdexcimal to decimal"
      ],
      "execution_count": null,
      "outputs": [
        {
          "output_type": "execute_result",
          "data": {
            "text/plain": [
              "10"
            ]
          },
          "metadata": {
            "tags": []
          },
          "execution_count": 60
        }
      ]
    },
    {
      "cell_type": "markdown",
      "metadata": {
        "id": "JrjNIPjDjeu8"
      },
      "source": [
        "##Print Format"
      ]
    },
    {
      "cell_type": "code",
      "metadata": {
        "colab": {
          "base_uri": "https://localhost:8080/"
        },
        "id": "pe7d9Q4dLG0x",
        "outputId": "fc354bf0-02af-4c04-ef5c-1a4c87a6b462"
      },
      "source": [
        "# This prints \"John is 23 years old\"\n",
        "name=\"John\"\n",
        "age= \"23\"\n",
        "print(name, \" is \", age, \" years old.\")"
      ],
      "execution_count": null,
      "outputs": [
        {
          "output_type": "stream",
          "text": [
            "John  is  23  years old.\n"
          ],
          "name": "stdout"
        }
      ]
    },
    {
      "cell_type": "code",
      "metadata": {
        "colab": {
          "base_uri": "https://localhost:8080/"
        },
        "id": "kTgdUUFhP40D",
        "outputId": "929986c4-b830-4333-e5ef-7740dd880b93"
      },
      "source": [
        "name= input(\"Enter name\")\n",
        "age=int(input(\"Enter age:\"))\n",
        "print(name, \"is \", age, \"years old\")"
      ],
      "execution_count": null,
      "outputs": [
        {
          "output_type": "stream",
          "text": [
            "Enter nameX\n",
            "Enter age:20\n",
            "X is  20 years old\n"
          ],
          "name": "stdout"
        }
      ]
    },
    {
      "cell_type": "code",
      "metadata": {
        "colab": {
          "background_save": true,
          "base_uri": "https://localhost:8080/"
        },
        "id": "1maF8O2Njhtr",
        "outputId": "63ae9b89-af68-44cd-ebe3-fdbe8d763470"
      },
      "source": [
        "#using string.format()\n",
        "# This also prints out \"John is 23 years old.\"\n",
        "name = \"John\"\n",
        "age = 23\n",
        "print(\"{} is {} years old.\" .format (name, age))"
      ],
      "execution_count": null,
      "outputs": [
        {
          "output_type": "stream",
          "text": [
            "John is 23 years old.\n"
          ],
          "name": "stdout"
        }
      ]
    },
    {
      "cell_type": "markdown",
      "metadata": {
        "id": "CTfY7mfoInaq"
      },
      "source": [
        "###Generating Random Numbers"
      ]
    },
    {
      "cell_type": "code",
      "metadata": {
        "colab": {
          "base_uri": "https://localhost:8080/"
        },
        "id": "Auuqxc-PIqvl",
        "outputId": "acc041c4-6402-4134-8a68-69f896df19d8"
      },
      "source": [
        "import random\n",
        "n= random.random() #generates any float number in the range of 0 to 1\n",
        "print(n)"
      ],
      "execution_count": null,
      "outputs": [
        {
          "output_type": "stream",
          "text": [
            "0.7580464543105935\n"
          ],
          "name": "stdout"
        }
      ]
    },
    {
      "cell_type": "code",
      "metadata": {
        "colab": {
          "base_uri": "https://localhost:8080/"
        },
        "id": "A9YmOOTIIztd",
        "outputId": "1a9ee1d7-bbaf-4dc9-d6e5-b2d3fa879d06"
      },
      "source": [
        "m= random.randint(0,30) #generates integer between 0 and 30, both inclusive\n",
        "print(m)"
      ],
      "execution_count": null,
      "outputs": [
        {
          "output_type": "stream",
          "text": [
            "24\n"
          ],
          "name": "stdout"
        }
      ]
    },
    {
      "cell_type": "code",
      "metadata": {
        "colab": {
          "base_uri": "https://localhost:8080/"
        },
        "id": "2nvFKV67JGwM",
        "outputId": "8b9a0454-c220-47e9-e9de-3953eb673c21"
      },
      "source": [
        "x= random.sample(range(10,50),5) #generates list of 5 numbers between 10 and 50\n",
        "print(x)"
      ],
      "execution_count": null,
      "outputs": [
        {
          "output_type": "stream",
          "text": [
            "[26, 34, 21, 45, 31]\n"
          ],
          "name": "stdout"
        }
      ]
    },
    {
      "cell_type": "code",
      "metadata": {
        "id": "YBp7gSm_JjkU",
        "colab": {
          "base_uri": "https://localhost:8080/"
        },
        "outputId": "c54bebe5-1716-4ff2-af51-c0a605b581f3"
      },
      "source": [
        "x= 20\n",
        "z=5\n",
        "z%=x\n",
        "print(z)"
      ],
      "execution_count": null,
      "outputs": [
        {
          "output_type": "stream",
          "text": [
            "5\n"
          ],
          "name": "stdout"
        }
      ]
    },
    {
      "cell_type": "markdown",
      "metadata": {
        "id": "ZjiNd00vobuN"
      },
      "source": [
        "Using Range data type"
      ]
    },
    {
      "cell_type": "code",
      "metadata": {
        "colab": {
          "base_uri": "https://localhost:8080/"
        },
        "id": "ol1W7szPNzY0",
        "outputId": "8cd74fa5-8864-427c-e697-59ca981ad5ec"
      },
      "source": [
        "#Range data type\n",
        "r=range(10)\n",
        "print(r)\n",
        "print(type(r))\n",
        "print(list(r))"
      ],
      "execution_count": null,
      "outputs": [
        {
          "output_type": "stream",
          "text": [
            "range(0, 10)\n",
            "<class 'range'>\n",
            "[0, 1, 2, 3, 4, 5, 6, 7, 8, 9]\n"
          ],
          "name": "stdout"
        }
      ]
    },
    {
      "cell_type": "markdown",
      "metadata": {
        "id": "3ohV7Ww4ogaN"
      },
      "source": [
        "###Using Byte data type\n",
        "Byte datatype represents group of byte numbers just like an array.\n",
        "A byte number is any positive integer from 0 to 255.\n",
        "It cannot store any negative integer"
      ]
    },
    {
      "cell_type": "code",
      "metadata": {
        "colab": {
          "base_uri": "https://localhost:8080/"
        },
        "id": "zwb9VaYdoj_d",
        "outputId": "d1819985-16a4-47e7-f6a7-ec9c65d614fa"
      },
      "source": [
        "elements=[10,12,14,16,18]\n",
        "b= bytes(elements)\n",
        "print(b[1])"
      ],
      "execution_count": null,
      "outputs": [
        {
          "output_type": "stream",
          "text": [
            "12\n"
          ],
          "name": "stdout"
        }
      ]
    },
    {
      "cell_type": "code",
      "metadata": {
        "colab": {
          "base_uri": "https://localhost:8080/"
        },
        "id": "6Y4X4L8vo5gU",
        "outputId": "25aec678-b7d3-4dcf-ebe6-06e3d50d70a0"
      },
      "source": [
        "for i in b:\n",
        "  print(i)"
      ],
      "execution_count": null,
      "outputs": [
        {
          "output_type": "stream",
          "text": [
            "10\n",
            "12\n",
            "14\n",
            "16\n",
            "18\n"
          ],
          "name": "stdout"
        }
      ]
    },
    {
      "cell_type": "code",
      "metadata": {
        "id": "tq0mLVj5Ptrt",
        "colab": {
          "base_uri": "https://localhost:8080/"
        },
        "outputId": "7eb8431c-5023-4a9e-8360-24f46728ed90"
      },
      "source": [
        "#using if-elif-else\n",
        "#print hello if number less than 5\n",
        "# print good morning if number greater/equal to 5 and less than 10\n",
        "#print good bye if number greater/equal to 10\n",
        "\n",
        "num= input(\"Enter a whole number of your choice: \")\n",
        "num= int(num)\n",
        "\n",
        "if num<5:\n",
        "  print(\"Hello!\")\n",
        "elif 5<=num<10:\n",
        "  print(\"Good morning!\")\n",
        "else:\n",
        "  print(\"Good bye!\")\n"
      ],
      "execution_count": null,
      "outputs": [
        {
          "output_type": "stream",
          "text": [
            "Enter a whole number of your choice: 4\n",
            "Hello!\n"
          ],
          "name": "stdout"
        }
      ]
    }
  ]
}